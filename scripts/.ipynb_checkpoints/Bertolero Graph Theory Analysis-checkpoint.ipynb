{
 "cells": [
  {
   "cell_type": "markdown",
   "metadata": {},
   "source": [
    "# Bertolero Graph Theory Analysis"
   ]
  },
  {
   "cell_type": "markdown",
   "metadata": {},
   "source": [
    "### How modularity of networks predict long-term memory performance"
   ]
  },
  {
   "cell_type": "code",
   "execution_count": 46,
   "metadata": {},
   "outputs": [],
   "source": [
    "import brain_graphs\n",
    "import scipy.io as sio\n",
    "import numpy as np\n",
    "import pandas as pd\n",
    "from igraph import Graph, VertexClustering\n",
    "import matplotlib.pyplot as plt\n",
    "import time as time\n",
    "import seaborn as sns\n",
    "from scipy import stats\n",
    "from scipy.linalg import sqrtm\n",
    "from sklearn import linear_model"
   ]
  },
  {
   "cell_type": "markdown",
   "metadata": {},
   "source": [
    "#### Loading files and a little preprocessing"
   ]
  },
  {
   "cell_type": "code",
   "execution_count": 4,
   "metadata": {},
   "outputs": [
    {
     "name": "stdout",
     "output_type": "stream",
     "text": [
      "Shape of dataframe: (708, 3)\n",
      "Shape of subject matrices: (368, 368, 708)\n"
     ]
    }
   ],
   "source": [
    "# load file\n",
    "loaded_mat = sio.loadmat(\"/Users/michaelzhou/Desktop/Bertolero_modularity_project/Data/WM_avg_mats_368_20200506.mat\")\n",
    "\n",
    "# load subject matrices\n",
    "WM_mats = loaded_mat['sub_mats_avg_WM']\n",
    "\n",
    "# load subject ID's\n",
    "subject_list = loaded_mat['WM_sub_list']\n",
    "\n",
    "# load behavior measures\n",
    "df_mem = pd.read_csv(\"/Users/michaelzhou/Desktop/Bertolero_modularity_project/Data/all_mem_measures_w_motion_200402.csv\")\n",
    "# print(np.shape(df_mem))\n",
    "\n",
    "# create df of subjects with relevant behavioral measures\n",
    "df_mem2 = df_mem.loc[:,['sub_id','dPrime_new','WM_Task_2bk_Acc']]\n",
    "bool_series = pd.notnull(df_mem2['WM_Task_2bk_Acc']) # non-null values\n",
    "df_mem2 = df_mem2[bool_series]\n",
    "\n",
    "subject_ids = df_mem2['sub_id']\n",
    "index = subject_ids.isin(np.concatenate(subject_list, axis=0)) # match sub_ids to subject_list\n",
    "df_mem2 = df_mem2[index]\n",
    "print(\"Shape of dataframe: \" + str(np.shape(df_mem2)))\n",
    "\n",
    "# get updated subject matrices\n",
    "index = pd.Series(np.concatenate(subject_list, axis=0)).isin(df_mem2['sub_id'])\n",
    "WM_mats2 = WM_mats[:,:,index]\n",
    "print(\"Shape of subject matrices: \" + str(np.shape(WM_mats2)))"
   ]
  },
  {
   "cell_type": "markdown",
   "metadata": {},
   "source": [
    "#### Graph Theory Analysis on one subject"
   ]
  },
  {
   "cell_type": "code",
   "execution_count": 5,
   "metadata": {},
   "outputs": [
    {
     "name": "stdout",
     "output_type": "stream",
     "text": [
      "Matrix converted to graph with density of: 0.1504116810804407\n",
      "Shape of PC: (368,)\n",
      "Shape of WMD: (368,)\n",
      "Modularity score: 0.4144741111514873\n"
     ]
    }
   ],
   "source": [
    "# get matrix of one subject\n",
    "mat0 = WM_mats2[:,:,35]\n",
    "\n",
    "# make graph from matrix\n",
    "graph = brain_graphs.matrix_to_igraph(mat0, cost=.15)\n",
    "\n",
    "# get community detection results\n",
    "community_object = graph.community_infomap(edge_weights='weight')\n",
    "community_array = community_object.membership\n",
    "\n",
    "# calculate PC and WMD, return nice brain_graph object with the graph and community object attached\n",
    "brain_graph = brain_graphs.brain_graph(community_object)\n",
    "\n",
    "# return Participation Coefficient(PC) and Within-Module-Degree Z-Score(WMD)\n",
    "brain_graph.pc, brain_graph.wmd\n",
    "\n",
    "print(\"Shape of PC: \" + str(np.shape(brain_graph.pc)))\n",
    "print(\"Shape of WMD: \" + str(np.shape(brain_graph.wmd)))\n",
    "print(\"Modularity score: \" + str(brain_graph.community.modularity))"
   ]
  },
  {
   "cell_type": "markdown",
   "metadata": {},
   "source": [
    "#### Graph Theory Analysis on all subjects"
   ]
  },
  {
   "cell_type": "code",
   "execution_count": 6,
   "metadata": {},
   "outputs": [],
   "source": [
    "# function to return Participation Coefficient(PC), Within-Module-Degree Z-Score(WMD), and Modularity\n",
    "def get_measures(matrix):\n",
    "    \n",
    "    # make graph from matrix\n",
    "    graph = brain_graphs.matrix_to_igraph(matrix, cost=.15)\n",
    "    \n",
    "    # get community detection results\n",
    "    community_object = graph.community_infomap(edge_weights='weight')\n",
    "    # community_array = community_object.membership\n",
    "    \n",
    "    # return nice brain_graph object with the graph and community object attached\n",
    "    brain_graph = brain_graphs.brain_graph(community_object)\n",
    "    \n",
    "    # return PC, WMD, modularity\n",
    "    return brain_graph.pc, brain_graph.wmd, brain_graph.community.modularity\n",
    "    "
   ]
  },
  {
   "cell_type": "code",
   "execution_count": null,
   "metadata": {},
   "outputs": [],
   "source": [
    "# save PC, WMD, modularity\n",
    "num = np.shape(WM_mats2)[2]\n",
    "graph_pc = []\n",
    "graph_wmd = []\n",
    "graph_modularity = []\n",
    "\n",
    "for i in range(0, num):\n",
    "    mat = WM_mats2[:,:,i]\n",
    "    pc, wmd, modularity = get_measures(mat)\n",
    "    graph_pc.append(pc)\n",
    "    graph_wmd.append(wmd)\n",
    "    graph_modularity.append(modularity)\n",
    "    "
   ]
  },
  {
   "cell_type": "code",
   "execution_count": 8,
   "metadata": {},
   "outputs": [
    {
     "name": "stdout",
     "output_type": "stream",
     "text": [
      "Shape of PCs: (708, 368)\n",
      "Shape of WMDs: (708, 368)\n",
      "Shape of modularity scores: (708,)\n"
     ]
    }
   ],
   "source": [
    "print(\"Shape of PCs: \" + str(np.shape(graph_pc)))\n",
    "print(\"Shape of WMDs: \" + str(np.shape(graph_wmd)))\n",
    "print(\"Shape of modularity scores: \" + str(np.shape(graph_modularity)))"
   ]
  },
  {
   "cell_type": "markdown",
   "metadata": {},
   "source": [
    "#### Scatterplots of modularity and behavioral measures"
   ]
  },
  {
   "cell_type": "code",
   "execution_count": 23,
   "metadata": {},
   "outputs": [
    {
     "data": {
      "text/plain": [
       "<matplotlib.axes._subplots.AxesSubplot at 0x1539aa430>"
      ]
     },
     "execution_count": 23,
     "metadata": {},
     "output_type": "execute_result"
    },
    {
     "data": {
      "image/png": "[encoded data removed]",
      "text/plain": [
       "<Figure size 432x288 with 1 Axes>"
      ]
     },
     "metadata": {
      "needs_background": "light"
     },
     "output_type": "display_data"
    }
   ],
   "source": [
    "sns.regplot(df_mem2['dPrime_new'], graph_modularity)"
   ]
  },
  {
   "cell_type": "code",
   "execution_count": 20,
   "metadata": {},
   "outputs": [
    {
     "data": {
      "text/plain": [
       "(0.010328997657329227, 0.7838091765712469)"
      ]
     },
     "execution_count": 20,
     "metadata": {},
     "output_type": "execute_result"
    }
   ],
   "source": [
    "stats.pearsonr(df_mem2['dPrime_new'], graph_modularity)"
   ]
  },
  {
   "cell_type": "code",
   "execution_count": 10,
   "metadata": {},
   "outputs": [
    {
     "data": {
      "text/plain": [
       "<matplotlib.axes._subplots.AxesSubplot at 0x18202b970>"
      ]
     },
     "execution_count": 10,
     "metadata": {},
     "output_type": "execute_result"
    },
    {
     "data": {
      "image/png": "[encoded data removed]",
      "text/plain": [
       "<Figure size 432x288 with 1 Axes>"
      ]
     },
     "metadata": {
      "needs_background": "light"
     },
     "output_type": "display_data"
    }
   ],
   "source": [
    "sns.regplot(df_mem2['WM_Task_2bk_Acc'], graph_modularity)"
   ]
  },
  {
   "cell_type": "code",
   "execution_count": 21,
   "metadata": {},
   "outputs": [
    {
     "data": {
      "text/plain": [
       "(0.10936020287475466, 0.003670001401383469)"
      ]
     },
     "execution_count": 21,
     "metadata": {},
     "output_type": "execute_result"
    }
   ],
   "source": [
    "stats.pearsonr(measure2, graph_modularity2)"
   ]
  },
  {
   "cell_type": "markdown",
   "metadata": {},
   "source": [
    "There appears to be a few outliers. If we remove them, the plots look slightly better."
   ]
  },
  {
   "cell_type": "code",
   "execution_count": 11,
   "metadata": {},
   "outputs": [],
   "source": [
    "np_graph_modularity = np.array(graph_modularity)\n",
    "index = np.greater(np_graph_modularity, .3)\n",
    "graph_modularity2 = pd.Series(np_graph_modularity[index], name='modularity')\n",
    "measure1 = df_mem2['dPrime_new'][index]\n",
    "measure2 = df_mem2['WM_Task_2bk_Acc'][index]"
   ]
  },
  {
   "cell_type": "code",
   "execution_count": 12,
   "metadata": {},
   "outputs": [
    {
     "data": {
      "text/plain": [
       "<matplotlib.axes._subplots.AxesSubplot at 0x182103fa0>"
      ]
     },
     "execution_count": 12,
     "metadata": {},
     "output_type": "execute_result"
    },
    {
     "data": {
      "image/png": "[encoded data removed]",
      "text/plain": [
       "<Figure size 432x288 with 1 Axes>"
      ]
     },
     "metadata": {
      "needs_background": "light"
     },
     "output_type": "display_data"
    }
   ],
   "source": [
    "sns.regplot(measure1, graph_modularity2)"
   ]
  },
  {
   "cell_type": "code",
   "execution_count": 19,
   "metadata": {},
   "outputs": [
    {
     "data": {
      "text/plain": [
       "(0.01833409411708091, 0.6272260752971299)"
      ]
     },
     "execution_count": 19,
     "metadata": {},
     "output_type": "execute_result"
    }
   ],
   "source": [
    "stats.pearsonr(measure1, graph_modularity2)"
   ]
  },
  {
   "cell_type": "code",
   "execution_count": 13,
   "metadata": {},
   "outputs": [
    {
     "data": {
      "text/plain": [
       "<matplotlib.axes._subplots.AxesSubplot at 0x1537e3c10>"
      ]
     },
     "execution_count": 13,
     "metadata": {},
     "output_type": "execute_result"
    },
    {
     "data": {
      "image/png": "[encoded data removed]",
      "text/plain": [
       "<Figure size 432x288 with 1 Axes>"
      ]
     },
     "metadata": {
      "needs_background": "light"
     },
     "output_type": "display_data"
    }
   ],
   "source": [
    "sns.regplot(measure2, graph_modularity2)"
   ]
  },
  {
   "cell_type": "code",
   "execution_count": 22,
   "metadata": {},
   "outputs": [
    {
     "data": {
      "text/plain": [
       "(0.10936020287475466, 0.003670001401383469)"
      ]
     },
     "execution_count": 22,
     "metadata": {},
     "output_type": "execute_result"
    }
   ],
   "source": [
    "stats.pearsonr(measure2, graph_modularity2)"
   ]
  },
  {
   "cell_type": "markdown",
   "metadata": {},
   "source": [
    "#### Lasso Model"
   ]
  },
  {
   "cell_type": "code",
   "execution_count": 130,
   "metadata": {},
   "outputs": [],
   "source": [
    "# print(np.shape(graph_pc))\n",
    "# print(np.shape(df_mem2['dPrime_new']))\n",
    "# print(np.where(np.isnan(graph_wmd)))\n",
    "# sum(np.isnan(graph_wmd))"
   ]
  },
  {
   "cell_type": "code",
   "execution_count": 131,
   "metadata": {},
   "outputs": [
    {
     "name": "stdout",
     "output_type": "stream",
     "text": [
      "(1) Number of subjects with at least 1 Nan: 84\n",
      "(2) Subject id and number of nans :\n"
     ]
    }
   ],
   "source": [
    "sub_nan = np.where(np.isnan(graph_wmd))[0]\n",
    "print(\"(1) Number of subjects with at least 1 Nan: \" + str(len(np.unique(sub_nan))))\n",
    "print(\"(2) Subject id and number of nans :\")"
   ]
  },
  {
   "cell_type": "code",
   "execution_count": 120,
   "metadata": {},
   "outputs": [
    {
     "data": {
      "text/html": [
       "<div>\n",
       "<style scoped>\n",
       "    .dataframe tbody tr th:only-of-type {\n",
       "        vertical-align: middle;\n",
       "    }\n",
       "\n",
       "    .dataframe tbody tr th {\n",
       "        vertical-align: top;\n",
       "    }\n",
       "\n",
       "    .dataframe thead th {\n",
       "        text-align: right;\n",
       "    }\n",
       "</style>\n",
       "<table border=\"1\" class=\"dataframe\">\n",
       "  <thead>\n",
       "    <tr style=\"text-align: right;\">\n",
       "      <th></th>\n",
       "      <th>0</th>\n",
       "      <th>1</th>\n",
       "      <th>2</th>\n",
       "      <th>3</th>\n",
       "      <th>4</th>\n",
       "      <th>5</th>\n",
       "      <th>6</th>\n",
       "      <th>7</th>\n",
       "      <th>8</th>\n",
       "      <th>9</th>\n",
       "      <th>...</th>\n",
       "      <th>74</th>\n",
       "      <th>75</th>\n",
       "      <th>76</th>\n",
       "      <th>77</th>\n",
       "      <th>78</th>\n",
       "      <th>79</th>\n",
       "      <th>80</th>\n",
       "      <th>81</th>\n",
       "      <th>82</th>\n",
       "      <th>83</th>\n",
       "    </tr>\n",
       "  </thead>\n",
       "  <tbody>\n",
       "    <tr>\n",
       "      <th>0</th>\n",
       "      <td>6</td>\n",
       "      <td>8</td>\n",
       "      <td>16</td>\n",
       "      <td>31</td>\n",
       "      <td>33</td>\n",
       "      <td>38</td>\n",
       "      <td>42</td>\n",
       "      <td>53</td>\n",
       "      <td>55</td>\n",
       "      <td>60</td>\n",
       "      <td>...</td>\n",
       "      <td>620</td>\n",
       "      <td>628</td>\n",
       "      <td>634</td>\n",
       "      <td>660</td>\n",
       "      <td>671</td>\n",
       "      <td>676</td>\n",
       "      <td>682</td>\n",
       "      <td>698</td>\n",
       "      <td>700</td>\n",
       "      <td>701</td>\n",
       "    </tr>\n",
       "    <tr>\n",
       "      <th>1</th>\n",
       "      <td>2</td>\n",
       "      <td>3</td>\n",
       "      <td>1</td>\n",
       "      <td>1</td>\n",
       "      <td>1</td>\n",
       "      <td>1</td>\n",
       "      <td>2</td>\n",
       "      <td>2</td>\n",
       "      <td>5</td>\n",
       "      <td>4</td>\n",
       "      <td>...</td>\n",
       "      <td>2</td>\n",
       "      <td>1</td>\n",
       "      <td>1</td>\n",
       "      <td>3</td>\n",
       "      <td>1</td>\n",
       "      <td>1</td>\n",
       "      <td>1</td>\n",
       "      <td>1</td>\n",
       "      <td>1</td>\n",
       "      <td>3</td>\n",
       "    </tr>\n",
       "  </tbody>\n",
       "</table>\n",
       "<p>2 rows × 84 columns</p>\n",
       "</div>"
      ],
      "text/plain": [
       "   0   1   2   3   4   5   6   7   8   9   ...   74   75   76   77   78   79  \\\n",
       "0   6   8  16  31  33  38  42  53  55  60  ...  620  628  634  660  671  676   \n",
       "1   2   3   1   1   1   1   2   2   5   4  ...    2    1    1    3    1    1   \n",
       "\n",
       "    80   81   82   83  \n",
       "0  682  698  700  701  \n",
       "1    1    1    1    3  \n",
       "\n",
       "[2 rows x 84 columns]"
      ]
     },
     "execution_count": 120,
     "metadata": {},
     "output_type": "execute_result"
    }
   ],
   "source": [
    "pd.DataFrame(np.unique(sub_nan, return_counts = True))"
   ]
  },
  {
   "cell_type": "code",
   "execution_count": 121,
   "metadata": {},
   "outputs": [
    {
     "data": {
      "text/plain": [
       "(array([  6,   8,  16,  31,  33,  38,  42,  53,  55,  60,  86,  89, 105,\n",
       "        113, 114, 115, 131, 146, 159, 192, 198, 206, 212, 222, 242, 249,\n",
       "        251, 264, 273, 278, 296, 298, 300, 312, 323, 329, 334, 335, 336,\n",
       "        339, 348, 350, 363, 369, 380, 389, 391, 392, 394, 402, 403, 404,\n",
       "        430, 433, 435, 444, 452, 464, 468, 472, 481, 482, 483, 489, 494,\n",
       "        527, 528, 537, 540, 543, 547, 557, 593, 615, 620, 628, 634, 660,\n",
       "        671, 676, 682, 698, 700, 701]),\n",
       " array([2, 3, 1, 1, 1, 1, 2, 2, 5, 4, 1, 2, 1, 2, 1, 3, 1, 1, 1, 1, 1, 1,\n",
       "        1, 2, 1, 2, 3, 1, 2, 2, 1, 1, 2, 1, 1, 1, 2, 1, 1, 2, 5, 1, 2, 4,\n",
       "        1, 3, 1, 1, 1, 3, 1, 1, 1, 1, 2, 3, 1, 1, 1, 1, 4, 1, 4, 2, 3, 1,\n",
       "        1, 1, 1, 1, 3, 1, 1, 1, 2, 1, 1, 3, 1, 1, 1, 1, 1, 3]))"
      ]
     },
     "execution_count": 121,
     "metadata": {},
     "output_type": "execute_result"
    }
   ],
   "source": [
    "np.unique(sub_nan, return_counts = True)"
   ]
  },
  {
   "cell_type": "code",
   "execution_count": 132,
   "metadata": {},
   "outputs": [
    {
     "name": "stdout",
     "output_type": "stream",
     "text": [
      "(3) Number of subjects with at least 1 Nan: 39\n",
      "(4) Subject id and number of nans :\n"
     ]
    }
   ],
   "source": [
    "node_nan = np.where(np.isnan(graph_wmd))[1]\n",
    "print(\"(3) Number of subjects with at least 1 Nan: \" + str(len(np.unique(node_nan))))\n",
    "print(\"(4) Subject id and number of nans :\")"
   ]
  },
  {
   "cell_type": "code",
   "execution_count": 127,
   "metadata": {},
   "outputs": [
    {
     "data": {
      "text/html": [
       "<div>\n",
       "<style scoped>\n",
       "    .dataframe tbody tr th:only-of-type {\n",
       "        vertical-align: middle;\n",
       "    }\n",
       "\n",
       "    .dataframe tbody tr th {\n",
       "        vertical-align: top;\n",
       "    }\n",
       "\n",
       "    .dataframe thead th {\n",
       "        text-align: right;\n",
       "    }\n",
       "</style>\n",
       "<table border=\"1\" class=\"dataframe\">\n",
       "  <thead>\n",
       "    <tr style=\"text-align: right;\">\n",
       "      <th></th>\n",
       "      <th>0</th>\n",
       "      <th>1</th>\n",
       "      <th>2</th>\n",
       "      <th>3</th>\n",
       "      <th>4</th>\n",
       "      <th>5</th>\n",
       "      <th>6</th>\n",
       "      <th>7</th>\n",
       "      <th>8</th>\n",
       "      <th>9</th>\n",
       "      <th>...</th>\n",
       "      <th>29</th>\n",
       "      <th>30</th>\n",
       "      <th>31</th>\n",
       "      <th>32</th>\n",
       "      <th>33</th>\n",
       "      <th>34</th>\n",
       "      <th>35</th>\n",
       "      <th>36</th>\n",
       "      <th>37</th>\n",
       "      <th>38</th>\n",
       "    </tr>\n",
       "  </thead>\n",
       "  <tbody>\n",
       "    <tr>\n",
       "      <th>0</th>\n",
       "      <td>0</td>\n",
       "      <td>2</td>\n",
       "      <td>3</td>\n",
       "      <td>7</td>\n",
       "      <td>10</td>\n",
       "      <td>38</td>\n",
       "      <td>108</td>\n",
       "      <td>134</td>\n",
       "      <td>138</td>\n",
       "      <td>166</td>\n",
       "      <td>...</td>\n",
       "      <td>342</td>\n",
       "      <td>343</td>\n",
       "      <td>347</td>\n",
       "      <td>348</td>\n",
       "      <td>351</td>\n",
       "      <td>354</td>\n",
       "      <td>355</td>\n",
       "      <td>360</td>\n",
       "      <td>361</td>\n",
       "      <td>364</td>\n",
       "    </tr>\n",
       "    <tr>\n",
       "      <th>1</th>\n",
       "      <td>1</td>\n",
       "      <td>8</td>\n",
       "      <td>1</td>\n",
       "      <td>1</td>\n",
       "      <td>2</td>\n",
       "      <td>1</td>\n",
       "      <td>1</td>\n",
       "      <td>1</td>\n",
       "      <td>3</td>\n",
       "      <td>2</td>\n",
       "      <td>...</td>\n",
       "      <td>1</td>\n",
       "      <td>3</td>\n",
       "      <td>3</td>\n",
       "      <td>4</td>\n",
       "      <td>3</td>\n",
       "      <td>8</td>\n",
       "      <td>2</td>\n",
       "      <td>2</td>\n",
       "      <td>6</td>\n",
       "      <td>2</td>\n",
       "    </tr>\n",
       "  </tbody>\n",
       "</table>\n",
       "<p>2 rows × 39 columns</p>\n",
       "</div>"
      ],
      "text/plain": [
       "   0   1   2   3   4   5    6    7    8    9   ...   29   30   31   32   33  \\\n",
       "0   0   2   3   7  10  38  108  134  138  166  ...  342  343  347  348  351   \n",
       "1   1   8   1   1   2   1    1    1    3    2  ...    1    3    3    4    3   \n",
       "\n",
       "    34   35   36   37   38  \n",
       "0  354  355  360  361  364  \n",
       "1    8    2    2    6    2  \n",
       "\n",
       "[2 rows x 39 columns]"
      ]
     },
     "execution_count": 127,
     "metadata": {},
     "output_type": "execute_result"
    }
   ],
   "source": [
    "pd.DataFrame(np.unique(node_nan, return_counts = True))"
   ]
  },
  {
   "cell_type": "code",
   "execution_count": 128,
   "metadata": {},
   "outputs": [
    {
     "data": {
      "text/plain": [
       "(array([  0,   2,   3,   7,  10,  38, 108, 134, 138, 166, 168, 178, 198,\n",
       "        204, 214, 234, 260, 264, 305, 310, 319, 329, 330, 331, 333, 337,\n",
       "        338, 339, 341, 342, 343, 347, 348, 351, 354, 355, 360, 361, 364]),\n",
       " array([ 1,  8,  1,  1,  2,  1,  1,  1,  3,  2,  5,  1,  1,  1,  1,  1,  4,\n",
       "         2,  2,  1,  1,  2,  8, 14,  1, 12, 16,  3,  9,  1,  3,  3,  4,  3,\n",
       "         8,  2,  2,  6,  2]))"
      ]
     },
     "execution_count": 128,
     "metadata": {},
     "output_type": "execute_result"
    }
   ],
   "source": [
    "np.unique(node_nan, return_counts = True)"
   ]
  },
  {
   "cell_type": "code",
   "execution_count": 189,
   "metadata": {},
   "outputs": [
    {
     "name": "stdout",
     "output_type": "stream",
     "text": [
      "Shape of updated WMDs: (624, 368)\n",
      "Shape of updated PCs: (624, 368)\n",
      "Shape of LTM scores: (624,)\n",
      "Shape of WM scores: (624,)\n"
     ]
    }
   ],
   "source": [
    "# remove subjects with nan\n",
    "index = np.unique(sub_nan)\n",
    "\n",
    "graph_wmd2 = np.squeeze(graph_wmd)\n",
    "graph_wmd2 = np.delete(graph_wmd2, index, 0)\n",
    "print(\"Shape of updated WMDs: \" + str(np.shape(graph_wmd2)))\n",
    "\n",
    "graph_pc2 = np.squeeze(graph_pc)\n",
    "graph_pc2 = np.delete(graph_pc2, index, 0)\n",
    "print(\"Shape of updated PCs: \" + str(np.shape(graph_pc2)))\n",
    "\n",
    "LTM_score = np.delete(np.array(df_mem2['dPrime_new']), index)\n",
    "print(\"Shape of LTM scores: \" + str(np.shape(LTM_score)))\n",
    "\n",
    "WM_score = np.delete(np.array(df_mem2['WM_Task_2bk_Acc']), index)\n",
    "print(\"Shape of WM scores: \" + str(np.shape(WM_score)))"
   ]
  },
  {
   "cell_type": "code",
   "execution_count": 129,
   "metadata": {},
   "outputs": [],
   "source": [
    "# plt.hist(graph_wmd)"
   ]
  },
  {
   "cell_type": "code",
   "execution_count": 47,
   "metadata": {},
   "outputs": [],
   "source": [
    "clf = linear_model.Lasso(alpha=0.1)"
   ]
  },
  {
   "cell_type": "code",
   "execution_count": 188,
   "metadata": {},
   "outputs": [
    {
     "data": {
      "text/plain": [
       "Lasso(alpha=0.1, copy_X=True, fit_intercept=True, max_iter=1000,\n",
       "      normalize=False, positive=False, precompute=False, random_state=None,\n",
       "      selection='cyclic', tol=0.0001, warm_start=False)"
      ]
     },
     "execution_count": 188,
     "metadata": {},
     "output_type": "execute_result"
    }
   ],
   "source": [
    "clf.fit(graph_pc2, LTM_score)\n",
    "\n"
   ]
  },
  {
   "cell_type": "markdown",
   "metadata": {},
   "source": [
    "#### Extra code"
   ]
  },
  {
   "cell_type": "code",
   "execution_count": 372,
   "metadata": {},
   "outputs": [],
   "source": [
    "# start = time.time()\n",
    "\n",
    "# # get matrix of one subject\n",
    "# mat0 = WM_mats[:,:,1]\n",
    "\n",
    "# # make graph from matrix\n",
    "# graph = brain_graphs.matrix_to_igraph(mat0, cost=.15)\n",
    "\n",
    "# # get community detection results\n",
    "# community_object = graph.community_infomap(edge_weights='weight')\n",
    "# community_array = community_object.membership\n",
    "\n",
    "# # calculate PC and WMD, return nice brain_graph object with the graph and community object attached\n",
    "# brain_graph = brain_graphs.brain_graph(community_object)\n",
    "\n",
    "# # return Participation Coefficient(PC) and Within-Module-Degree Z-Score(WMD)\n",
    "# brain_graph.pc, brain_graph.wmd\n",
    "\n",
    "# End = time.time()\n",
    "\n",
    "# End-start\n",
    "\n",
    "# # find nan's\n",
    "# np.where(np.isnan(brain_graph.wmd))\n",
    "\n",
    "# # plot signal change\n",
    "# plt.plot(mat0[3,:])\n",
    "\n",
    "# print(dir(brain_graph))\n",
    "# print(brain_graph.community)\n",
    "# print(brain_graph.matrix)\n",
    "# print(brain_graph.node_degree_by_community)\n",
    "\n",
    "# original approach to indexing df\n",
    "# index = []\n",
    "# for count, element in enumerate(df_mem['sub_id']):\n",
    "#     # print(count)\n",
    "#     if element in subject_list:\n",
    "#         index.append(count)\n",
    "\n",
    "# np.where(np.isnan(df_mem['dPrime_new']))\n",
    "# to_remove = np.where(np.isnan(df_mem['WM_Task_2bk_Acc']))\n",
    "\n",
    "# #### Analysis with Riemann approach\n",
    "\n",
    "# mat_B = np.mean(WM_mats2, axis=2)\n",
    "\n",
    "# mat_A = WM_mats2[:,:,0]\n",
    "\n",
    "# print(np.shape(avg_mat))\n",
    "# print(np.shape(mat))\n",
    "\n",
    "# sio.savemat('/Users/michaelzhou/Desktop/Bertolero_modularity_project/Results/mat_B.mat', {'mat_B':mat_B})\n",
    "\n",
    "# sio.savemat('/Users/michaelzhou/Desktop/Bertolero_modularity_project/Results/mat_A.mat', {'mat_A':mat_A})\n"
   ]
  }
 ],
 "metadata": {
  "kernelspec": {
   "display_name": "Python 3",
   "language": "python",
   "name": "python3"
  },
  "language_info": {
   "codemirror_mode": {
    "name": "ipython",
    "version": 3
   },
   "file_extension": ".py",
   "mimetype": "text/x-python",
   "name": "python",
   "nbconvert_exporter": "python",
   "pygments_lexer": "ipython3",
   "version": "3.8.1"
  },
  "widgets": {
   "application/vnd.jupyter.widget-state+json": {
    "state": {},
    "version_major": 2,
    "version_minor": 0
   }
  }
 },
 "nbformat": 4,
 "nbformat_minor": 2
}
